{
 "cells": [
  {
   "cell_type": "code",
   "execution_count": 16,
   "metadata": {},
   "outputs": [],
   "source": [
    "import numpy as np\n",
    "import pandas as pd\n",
    "# thư viện này để tạo ma trận thưa \n",
    "import scipy\n",
    "import sklearn\n",
    "from scipy.sparse import csr_matrix\n",
    "# thư viện này dùng để xây dựng mô hình knn\n",
    "from sklearn.neighbors import NearestNeighbors\n",
    "from sklearn.model_selection import GridSearchCV\n",
    "from sklearn.neighbors import NearestNeighbors"
   ]
  },
  {
   "cell_type": "markdown",
   "metadata": {},
   "source": [
    "## đọc dữ liệu\n"
   ]
  },
  {
   "cell_type": "code",
   "execution_count": 17,
   "metadata": {},
   "outputs": [],
   "source": [
    "column_names1 = ['user id','movie id','rating','timestamp']\n",
    "dataset = pd.read_csv('Data Movielens/u.data', sep='\\t',header=None,names=column_names1)\n",
    "d = 'movie id | movie title | release date | video release date | IMDb URL | unknown | Action | Adventure | Animation | Children | Comedy | Crime | Documentary | Drama | Fantasy | Film-Noir | Horror | Musical | Mystery | Romance | Sci-Fi | Thriller | War | Western'\n",
    "column_names2 = d.split(' | ')\n",
    "items_dataset = pd.read_csv('Data Movielens/u.item', sep='|',header=None,names=column_names2,encoding='latin-1')\n",
    "movie_dataset = items_dataset[['movie id','movie title']]"
   ]
  },
  {
   "cell_type": "markdown",
   "metadata": {},
   "source": [
    "\n",
    "# tiền xử lý dữ liệu"
   ]
  },
  {
   "cell_type": "code",
   "execution_count": 18,
   "metadata": {},
   "outputs": [],
   "source": [
    "# B1: hợp nhất 2 dataframe dataset và movie_dataset đã đọc ở trên dựa trên cột chung là movie id\n",
    "merged_dataset = pd.merge(dataset, movie_dataset, how='inner', on='movie id')\n",
    "\n",
    "# B2: sử dụng groupby và agg để tính điểm trung bình đánh giá của mỗi người dùng cho mỗi bộ phim.\n",
    "refined_dataset = merged_dataset.groupby(by=['user id','movie title'], as_index=False).agg({\"rating\":\"mean\"})\n",
    "\n",
    "# B3: Tạo một DataFrame mới chứa số lượng đánh giá cho mỗi điểm đánh giá.\n",
    "rating_count_df = pd.DataFrame(refined_dataset.groupby(['rating']).size(), columns=['count'])\n"
   ]
  },
  {
   "cell_type": "code",
   "execution_count": 19,
   "metadata": {},
   "outputs": [
    {
     "data": {
      "text/html": [
       "<div>\n",
       "<style scoped>\n",
       "    .dataframe tbody tr th:only-of-type {\n",
       "        vertical-align: middle;\n",
       "    }\n",
       "\n",
       "    .dataframe tbody tr th {\n",
       "        vertical-align: top;\n",
       "    }\n",
       "\n",
       "    .dataframe thead th {\n",
       "        text-align: right;\n",
       "    }\n",
       "</style>\n",
       "<table border=\"1\" class=\"dataframe\">\n",
       "  <thead>\n",
       "    <tr style=\"text-align: right;\">\n",
       "      <th></th>\n",
       "      <th>count</th>\n",
       "    </tr>\n",
       "    <tr>\n",
       "      <th>rating</th>\n",
       "      <th></th>\n",
       "    </tr>\n",
       "  </thead>\n",
       "  <tbody>\n",
       "    <tr>\n",
       "      <th>1.0</th>\n",
       "      <td>6083</td>\n",
       "    </tr>\n",
       "    <tr>\n",
       "      <th>1.5</th>\n",
       "      <td>3</td>\n",
       "    </tr>\n",
       "    <tr>\n",
       "      <th>2.0</th>\n",
       "      <td>11334</td>\n",
       "    </tr>\n",
       "    <tr>\n",
       "      <th>2.5</th>\n",
       "      <td>6</td>\n",
       "    </tr>\n",
       "    <tr>\n",
       "      <th>3.0</th>\n",
       "      <td>27060</td>\n",
       "    </tr>\n",
       "    <tr>\n",
       "      <th>3.5</th>\n",
       "      <td>19</td>\n",
       "    </tr>\n",
       "    <tr>\n",
       "      <th>4.0</th>\n",
       "      <td>34042</td>\n",
       "    </tr>\n",
       "    <tr>\n",
       "      <th>4.5</th>\n",
       "      <td>16</td>\n",
       "    </tr>\n",
       "    <tr>\n",
       "      <th>5.0</th>\n",
       "      <td>21130</td>\n",
       "    </tr>\n",
       "  </tbody>\n",
       "</table>\n",
       "</div>"
      ],
      "text/plain": [
       "        count\n",
       "rating       \n",
       "1.0      6083\n",
       "1.5         3\n",
       "2.0     11334\n",
       "2.5         6\n",
       "3.0     27060\n",
       "3.5        19\n",
       "4.0     34042\n",
       "4.5        16\n",
       "5.0     21130"
      ]
     },
     "execution_count": 19,
     "metadata": {},
     "output_type": "execute_result"
    }
   ],
   "source": [
    "rating_count_df"
   ]
  },
  {
   "cell_type": "code",
   "execution_count": 20,
   "metadata": {},
   "outputs": [
    {
     "name": "stderr",
     "output_type": "stream",
     "text": [
      "C:\\Users\\LAPTOP\\AppData\\Local\\Temp\\ipykernel_5276\\3598299161.py:8: FutureWarning: The frame.append method is deprecated and will be removed from pandas in a future version. Use pandas.concat instead.\n",
      "  rating_count_df = rating_count_df.append(\n"
     ]
    }
   ],
   "source": [
    "# B4: Trong bộ dữ liệu sẽ có các đánh giá bị bỏ trống \n",
    "# (người dùng không đánh giá phim này), ta sẽ tính số lượng \n",
    "# các đánh giá thiếu này và bổ sung vào rating_count_df\n",
    "num_users = len(refined_dataset['user id'].value_counts())\n",
    "num_items = len(refined_dataset['movie title'].value_counts())\n",
    "total_count = num_items * num_users\n",
    "zero_count = total_count-refined_dataset.shape[0]\n",
    "rating_count_df = rating_count_df.append(\n",
    "    pd.DataFrame({'count': zero_count}, index=[0.0]),\n",
    "    verify_integrity=True,\n",
    ").sort_index()\n",
    "\n",
    "# vì giá trị của số lượng đánh giá lớn, do đó ta giảm đi bằng cách lấy logarit của nó\n",
    "rating_count_df['log_count'] = np.log(rating_count_df['count'])\n",
    "rating_count_df = rating_count_df.reset_index().rename(columns={'index': 'rating score'})"
   ]
  },
  {
   "cell_type": "code",
   "execution_count": 21,
   "metadata": {},
   "outputs": [
    {
     "data": {
      "text/html": [
       "<div>\n",
       "<style scoped>\n",
       "    .dataframe tbody tr th:only-of-type {\n",
       "        vertical-align: middle;\n",
       "    }\n",
       "\n",
       "    .dataframe tbody tr th {\n",
       "        vertical-align: top;\n",
       "    }\n",
       "\n",
       "    .dataframe thead th {\n",
       "        text-align: right;\n",
       "    }\n",
       "</style>\n",
       "<table border=\"1\" class=\"dataframe\">\n",
       "  <thead>\n",
       "    <tr style=\"text-align: right;\">\n",
       "      <th></th>\n",
       "      <th>rating score</th>\n",
       "      <th>count</th>\n",
       "      <th>log_count</th>\n",
       "    </tr>\n",
       "  </thead>\n",
       "  <tbody>\n",
       "    <tr>\n",
       "      <th>0</th>\n",
       "      <td>0.0</td>\n",
       "      <td>1469459</td>\n",
       "      <td>14.200405</td>\n",
       "    </tr>\n",
       "    <tr>\n",
       "      <th>1</th>\n",
       "      <td>1.0</td>\n",
       "      <td>6083</td>\n",
       "      <td>8.713253</td>\n",
       "    </tr>\n",
       "    <tr>\n",
       "      <th>2</th>\n",
       "      <td>1.5</td>\n",
       "      <td>3</td>\n",
       "      <td>1.098612</td>\n",
       "    </tr>\n",
       "    <tr>\n",
       "      <th>3</th>\n",
       "      <td>2.0</td>\n",
       "      <td>11334</td>\n",
       "      <td>9.335562</td>\n",
       "    </tr>\n",
       "    <tr>\n",
       "      <th>4</th>\n",
       "      <td>2.5</td>\n",
       "      <td>6</td>\n",
       "      <td>1.791759</td>\n",
       "    </tr>\n",
       "    <tr>\n",
       "      <th>5</th>\n",
       "      <td>3.0</td>\n",
       "      <td>27060</td>\n",
       "      <td>10.205812</td>\n",
       "    </tr>\n",
       "    <tr>\n",
       "      <th>6</th>\n",
       "      <td>3.5</td>\n",
       "      <td>19</td>\n",
       "      <td>2.944439</td>\n",
       "    </tr>\n",
       "    <tr>\n",
       "      <th>7</th>\n",
       "      <td>4.0</td>\n",
       "      <td>34042</td>\n",
       "      <td>10.435350</td>\n",
       "    </tr>\n",
       "    <tr>\n",
       "      <th>8</th>\n",
       "      <td>4.5</td>\n",
       "      <td>16</td>\n",
       "      <td>2.772589</td>\n",
       "    </tr>\n",
       "    <tr>\n",
       "      <th>9</th>\n",
       "      <td>5.0</td>\n",
       "      <td>21130</td>\n",
       "      <td>9.958449</td>\n",
       "    </tr>\n",
       "  </tbody>\n",
       "</table>\n",
       "</div>"
      ],
      "text/plain": [
       "   rating score    count  log_count\n",
       "0           0.0  1469459  14.200405\n",
       "1           1.0     6083   8.713253\n",
       "2           1.5        3   1.098612\n",
       "3           2.0    11334   9.335562\n",
       "4           2.5        6   1.791759\n",
       "5           3.0    27060  10.205812\n",
       "6           3.5       19   2.944439\n",
       "7           4.0    34042  10.435350\n",
       "8           4.5       16   2.772589\n",
       "9           5.0    21130   9.958449"
      ]
     },
     "execution_count": 21,
     "metadata": {},
     "output_type": "execute_result"
    }
   ],
   "source": [
    "rating_count_df"
   ]
  },
  {
   "cell_type": "code",
   "execution_count": 22,
   "metadata": {},
   "outputs": [],
   "source": [
    "movie_to_user_df = refined_dataset.pivot(\n",
    "     index='movie title',\n",
    "     columns='user id',\n",
    "      values='rating').fillna(0)\n",
    "\n",
    "#Tạo một ma trận bảng đánh giá của người dùng cho các bộ phim, với các giá trị là điểm đánh giá.\n",
    "# Chuyển đổi ma trận thành dạng ma trận thưa thớt để giảm lượng dữ liệu không cần thiết.\n",
    "movie_to_user_sparse_df = csr_matrix(movie_to_user_df.values)\n",
    "\n",
    "movies_list = list(movie_to_user_df.index)\n",
    "\n",
    "# Tạo một từ điển với tên phim là khóa và chỉ số của nó từ movies_list:\n",
    "movie_dict = {movie : index for index, movie in enumerate(movies_list)}\n",
    "case_insensitive_movies_list = [i.lower() for i in movies_list]"
   ]
  },
  {
   "cell_type": "markdown",
   "metadata": {},
   "source": [
    "# Xây dựng mô hình"
   ]
  },
  {
   "cell_type": "markdown",
   "metadata": {},
   "source": [
    "## Điều chỉnh các tham số của thuật toán với <font color=red>GridSearchCV</font> để tìm ra các tham số tốt nhất cho thuật toán"
   ]
  },
  {
   "cell_type": "code",
   "execution_count": 23,
   "metadata": {},
   "outputs": [
    {
     "name": "stdout",
     "output_type": "stream",
     "text": [
      "Best Parameters:  {'algorithm': 'brute', 'metric': 'cosine', 'n_neighbors': 5, 'radius': 1}\n"
     ]
    },
    {
     "name": "stderr",
     "output_type": "stream",
     "text": [
      "c:\\Users\\LAPTOP\\AppData\\Local\\Programs\\Python\\Python311\\Lib\\site-packages\\sklearn\\model_selection\\_search.py:979: UserWarning: One or more of the test scores are non-finite: [nan nan nan nan nan nan nan nan nan nan nan nan nan nan nan nan nan nan]\n",
      "  warnings.warn(\n"
     ]
    }
   ],
   "source": [
    "# Xác định lưới tham số\n",
    "param_grid = {\n",
    "    'n_neighbors': [5, 10, 15],\n",
    "    'radius': [1, 2, 3],\n",
    "    'metric': ['cosine', 'euclidean'],\n",
    "    'algorithm': ['brute'] \n",
    "}\n",
    "\n",
    "# Tạo mô hình NearestNeighbors\n",
    "knn_movie_model = NearestNeighbors()\n",
    "\n",
    "# Tạo đối tượng GridSearchCV\n",
    "grid_search = GridSearchCV(knn_movie_model, param_grid, scoring='neg_mean_squared_error', cv=5, n_jobs=-1)\n",
    "\n",
    "#Điều chỉnh tìm kiếm dạng lưới cho phù hợp với dữ liệu\n",
    "grid_search.fit(movie_to_user_sparse_df)\n",
    "\n",
    "# In các thông số tốt nhất được tìm thấy\n",
    "print(\"Best Parameters: \", grid_search.best_params_)\n"
   ]
  },
  {
   "cell_type": "code",
   "execution_count": 24,
   "metadata": {},
   "outputs": [],
   "source": [
    "my_n_neighbors = grid_search.best_params_['n_neighbors']\n",
    "my_radius = grid_search.best_params_['radius']\n",
    "my_metric = grid_search.best_params_['metric']\n",
    "my_algorithm = grid_search.best_params_['algorithm']"
   ]
  },
  {
   "cell_type": "markdown",
   "metadata": {},
   "source": [
    "## Sử dụng thư viện scikit-learn để tạo một mô hình KNN dựa trên ma trận thưa thớt.\n",
    "## Mô hình này sẽ được sử dụng để tìm các bộ phim tương tự dựa trên độ tương đồng cosine giữa chúng.\n"
   ]
  },
  {
   "cell_type": "code",
   "execution_count": 25,
   "metadata": {},
   "outputs": [
    {
     "data": {
      "text/html": [
       "<style>#sk-container-id-2 {color: black;}#sk-container-id-2 pre{padding: 0;}#sk-container-id-2 div.sk-toggleable {background-color: white;}#sk-container-id-2 label.sk-toggleable__label {cursor: pointer;display: block;width: 100%;margin-bottom: 0;padding: 0.3em;box-sizing: border-box;text-align: center;}#sk-container-id-2 label.sk-toggleable__label-arrow:before {content: \"▸\";float: left;margin-right: 0.25em;color: #696969;}#sk-container-id-2 label.sk-toggleable__label-arrow:hover:before {color: black;}#sk-container-id-2 div.sk-estimator:hover label.sk-toggleable__label-arrow:before {color: black;}#sk-container-id-2 div.sk-toggleable__content {max-height: 0;max-width: 0;overflow: hidden;text-align: left;background-color: #f0f8ff;}#sk-container-id-2 div.sk-toggleable__content pre {margin: 0.2em;color: black;border-radius: 0.25em;background-color: #f0f8ff;}#sk-container-id-2 input.sk-toggleable__control:checked~div.sk-toggleable__content {max-height: 200px;max-width: 100%;overflow: auto;}#sk-container-id-2 input.sk-toggleable__control:checked~label.sk-toggleable__label-arrow:before {content: \"▾\";}#sk-container-id-2 div.sk-estimator input.sk-toggleable__control:checked~label.sk-toggleable__label {background-color: #d4ebff;}#sk-container-id-2 div.sk-label input.sk-toggleable__control:checked~label.sk-toggleable__label {background-color: #d4ebff;}#sk-container-id-2 input.sk-hidden--visually {border: 0;clip: rect(1px 1px 1px 1px);clip: rect(1px, 1px, 1px, 1px);height: 1px;margin: -1px;overflow: hidden;padding: 0;position: absolute;width: 1px;}#sk-container-id-2 div.sk-estimator {font-family: monospace;background-color: #f0f8ff;border: 1px dotted black;border-radius: 0.25em;box-sizing: border-box;margin-bottom: 0.5em;}#sk-container-id-2 div.sk-estimator:hover {background-color: #d4ebff;}#sk-container-id-2 div.sk-parallel-item::after {content: \"\";width: 100%;border-bottom: 1px solid gray;flex-grow: 1;}#sk-container-id-2 div.sk-label:hover label.sk-toggleable__label {background-color: #d4ebff;}#sk-container-id-2 div.sk-serial::before {content: \"\";position: absolute;border-left: 1px solid gray;box-sizing: border-box;top: 0;bottom: 0;left: 50%;z-index: 0;}#sk-container-id-2 div.sk-serial {display: flex;flex-direction: column;align-items: center;background-color: white;padding-right: 0.2em;padding-left: 0.2em;position: relative;}#sk-container-id-2 div.sk-item {position: relative;z-index: 1;}#sk-container-id-2 div.sk-parallel {display: flex;align-items: stretch;justify-content: center;background-color: white;position: relative;}#sk-container-id-2 div.sk-item::before, #sk-container-id-2 div.sk-parallel-item::before {content: \"\";position: absolute;border-left: 1px solid gray;box-sizing: border-box;top: 0;bottom: 0;left: 50%;z-index: -1;}#sk-container-id-2 div.sk-parallel-item {display: flex;flex-direction: column;z-index: 1;position: relative;background-color: white;}#sk-container-id-2 div.sk-parallel-item:first-child::after {align-self: flex-end;width: 50%;}#sk-container-id-2 div.sk-parallel-item:last-child::after {align-self: flex-start;width: 50%;}#sk-container-id-2 div.sk-parallel-item:only-child::after {width: 0;}#sk-container-id-2 div.sk-dashed-wrapped {border: 1px dashed gray;margin: 0 0.4em 0.5em 0.4em;box-sizing: border-box;padding-bottom: 0.4em;background-color: white;}#sk-container-id-2 div.sk-label label {font-family: monospace;font-weight: bold;display: inline-block;line-height: 1.2em;}#sk-container-id-2 div.sk-label-container {text-align: center;}#sk-container-id-2 div.sk-container {/* jupyter's `normalize.less` sets `[hidden] { display: none; }` but bootstrap.min.css set `[hidden] { display: none !important; }` so we also need the `!important` here to be able to override the default hidden behavior on the sphinx rendered scikit-learn.org. See: https://github.com/scikit-learn/scikit-learn/issues/21755 */display: inline-block !important;position: relative;}#sk-container-id-2 div.sk-text-repr-fallback {display: none;}</style><div id=\"sk-container-id-2\" class=\"sk-top-container\"><div class=\"sk-text-repr-fallback\"><pre>NearestNeighbors(algorithm=&#x27;brute&#x27;, metric=&#x27;cosine&#x27;, radius=1)</pre><b>In a Jupyter environment, please rerun this cell to show the HTML representation or trust the notebook. <br />On GitHub, the HTML representation is unable to render, please try loading this page with nbviewer.org.</b></div><div class=\"sk-container\" hidden><div class=\"sk-item\"><div class=\"sk-estimator sk-toggleable\"><input class=\"sk-toggleable__control sk-hidden--visually\" id=\"sk-estimator-id-2\" type=\"checkbox\" checked><label for=\"sk-estimator-id-2\" class=\"sk-toggleable__label sk-toggleable__label-arrow\">NearestNeighbors</label><div class=\"sk-toggleable__content\"><pre>NearestNeighbors(algorithm=&#x27;brute&#x27;, metric=&#x27;cosine&#x27;, radius=1)</pre></div></div></div></div></div>"
      ],
      "text/plain": [
       "NearestNeighbors(algorithm='brute', metric='cosine', radius=1)"
      ]
     },
     "execution_count": 25,
     "metadata": {},
     "output_type": "execute_result"
    }
   ],
   "source": [
    "knn_movie_model = NearestNeighbors(n_neighbors= my_n_neighbors, radius= my_radius, metric=my_metric, algorithm=my_algorithm)\n",
    "knn_movie_model.fit(movie_to_user_sparse_df)"
   ]
  },
  {
   "cell_type": "code",
   "execution_count": 26,
   "metadata": {},
   "outputs": [],
   "source": [
    "# hàm này lấy các chuỗi kí tự trong tên phim được nhập vào, \n",
    "# so sánh với danh sách phim \n",
    "# để tìm các phim mà có thể bạn  đang tìm kiếm\n",
    "def get_possible_movies(movie):\n",
    "\n",
    "    temp = ''\n",
    "    possible_movies = case_insensitive_movies_list.copy()\n",
    "    for i in movie :\n",
    "      out = []\n",
    "      temp += i\n",
    "      for j in possible_movies:\n",
    "        if temp in j:\n",
    "          out.append(j)\n",
    "      if len(out) == 0:\n",
    "          return possible_movies\n",
    "      out.sort()\n",
    "      possible_movies = out.copy()\n",
    "\n",
    "    return possible_movies"
   ]
  },
  {
   "cell_type": "code",
   "execution_count": 27,
   "metadata": {},
   "outputs": [
    {
     "data": {
      "text/plain": [
       "1663"
      ]
     },
     "execution_count": 27,
     "metadata": {},
     "output_type": "execute_result"
    }
   ],
   "source": [
    "len(movies_list)-1"
   ]
  },
  {
   "cell_type": "code",
   "execution_count": 28,
   "metadata": {},
   "outputs": [],
   "source": [
    "\n",
    "def get_similar_movies(movie, n=10):\n",
    "    index = movie_dict[movie]\n",
    "    knn_input = np.asarray([movie_to_user_df.values[index]])\n",
    "    n = min(len(movies_list)-1, n)\n",
    "    distances, indices = knn_movie_model.kneighbors(knn_input, n_neighbors=n+1)\n",
    "    # Tính toán độ tương đồng cosine từ khoảng cách cosine.\n",
    "    cosine_similarities = 1 - distances.flatten()\n",
    "    recommendations = [\n",
    "        f\"{movies_list[indices[0][i]]} - Similarity: {cosine_similarities[i]:.2f}\"\n",
    "        for i in range(1, len(cosine_similarities))\n",
    "    ]\n",
    "\n",
    "    return recommendations"
   ]
  },
  {
   "cell_type": "code",
   "execution_count": 29,
   "metadata": {},
   "outputs": [],
   "source": [
    "# hàm trả về tên các bộ phim đề xuất dựa vào từ khóa nhập vào\n",
    "def recommend():\n",
    "    try:\n",
    "        movie_name = entry_movie.get()\n",
    "        movie_name_lower = movie_name.lower()\n",
    "        if movie_name_lower not in case_insensitive_movies_list:\n",
    "            raise InvalidInput\n",
    "        else:\n",
    "            num_recom = int(entry_num_recom)\n",
    "            recommendations = get_similar_movies(movies_list[case_insensitive_movies_list.index(movie_name_lower)], num_recom)\n",
    "            result_label.config(text=\"\\n\".join(recommendations))\n",
    "    except InvalidInput:\n",
    "        possible_movies = get_possible_movies(movie_name_lower)\n",
    "        if len(possible_movies) == len(movies_list):\n",
    "            result_label.config(text=\"Movie name entered does not exist in the list.\")\n",
    "        else:\n",
    "            indices = [case_insensitive_movies_list.index(i) for i in possible_movies]\n",
    "            suggestions = '\\n'.join([movies_list[i] for i in indices])\n",
    "            result_label.config(text=suggestions)"
   ]
  },
  {
   "cell_type": "markdown",
   "metadata": {},
   "source": [
    "# Tạo giao diện người dùng"
   ]
  },
  {
   "cell_type": "code",
   "execution_count": 30,
   "metadata": {},
   "outputs": [],
   "source": [
    "import tkinter as tk\n",
    "class InvalidInput(Exception):\n",
    "    pass\n",
    "# # định nghĩa số lượng phim đề xuất     \n",
    "entry_num_recom = 10\n",
    "root = tk.Tk()\n",
    "root.title(\"KNN Movie Recommendation System\")\n",
    "\n",
    "label_movie = tk.Label(root, text=\"Enter the Movie name:\")\n",
    "label_movie.pack(pady=10)\n",
    "\n",
    "entry_movie = tk.Entry(root, width=30)\n",
    "entry_movie.pack(pady=10)\n",
    "\n",
    "\n",
    "button_recommend = tk.Button(root, text=\"Search\", command=recommend)\n",
    "button_recommend.pack(pady=20)\n",
    "\n",
    "result_label = tk.Label(root, text=\"\")\n",
    "result_label.pack(pady=10)\n",
    "# Run the Tkinter event loop\n",
    "root.mainloop()"
   ]
  }
 ],
 "metadata": {
  "kernelspec": {
   "display_name": "Python 3",
   "language": "python",
   "name": "python3"
  },
  "language_info": {
   "codemirror_mode": {
    "name": "ipython",
    "version": 3
   },
   "file_extension": ".py",
   "mimetype": "text/x-python",
   "name": "python",
   "nbconvert_exporter": "python",
   "pygments_lexer": "ipython3",
   "version": "3.11.0"
  }
 },
 "nbformat": 4,
 "nbformat_minor": 2
}
